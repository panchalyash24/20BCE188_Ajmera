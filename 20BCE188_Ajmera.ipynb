{
 "cells": [
  {
   "cell_type": "code",
   "execution_count": 2,
   "id": "aa6ad285",
   "metadata": {},
   "outputs": [
    {
     "name": "stdout",
     "output_type": "stream",
     "text": [
      "Requirement already satisfied: requests in c:\\users\\jayvardhan\\anaconda3\\lib\\site-packages (2.26.0)\n",
      "Requirement already satisfied: certifi>=2017.4.17 in c:\\users\\jayvardhan\\anaconda3\\lib\\site-packages (from requests) (2021.10.8)\n",
      "Requirement already satisfied: idna<4,>=2.5 in c:\\users\\jayvardhan\\anaconda3\\lib\\site-packages (from requests) (3.2)\n",
      "Requirement already satisfied: charset-normalizer~=2.0.0 in c:\\users\\jayvardhan\\anaconda3\\lib\\site-packages (from requests) (2.0.4)\n",
      "Requirement already satisfied: urllib3<1.27,>=1.21.1 in c:\\users\\jayvardhan\\anaconda3\\lib\\site-packages (from requests) (1.26.7)\n"
     ]
    }
   ],
   "source": [
    "!pip install requests"
   ]
  },
  {
   "cell_type": "code",
   "execution_count": 3,
   "id": "74a44d7f",
   "metadata": {},
   "outputs": [
    {
     "name": "stdout",
     "output_type": "stream",
     "text": [
      "Requirement already satisfied: beautifulsoup4 in c:\\users\\jayvardhan\\anaconda3\\lib\\site-packages (4.10.0)\n",
      "Requirement already satisfied: soupsieve>1.2 in c:\\users\\jayvardhan\\anaconda3\\lib\\site-packages (from beautifulsoup4) (2.2.1)\n"
     ]
    }
   ],
   "source": [
    "!pip install beautifulsoup4"
   ]
  },
  {
   "cell_type": "code",
   "execution_count": 36,
   "id": "e17b304e",
   "metadata": {},
   "outputs": [
    {
     "name": "stdout",
     "output_type": "stream",
     "text": [
      "                                          Product Name     Prices  \\\n",
      "0                  APPLE iPhone 13 (Starlight, 256 GB)    ₹62,999   \n",
      "1       APPLE iPhone 15 Pro (Natural Titanium, 128 GB)  ₹1,30,990   \n",
      "2                       APPLE iPhone 11 (White, 64 GB)    ₹43,900   \n",
      "3                       APPLE iPhone 15 (Pink, 256 GB)    ₹82,999   \n",
      "4                   APPLE iPhone 13 (Midnight, 128 GB)    ₹52,999   \n",
      "..                                                 ...        ...   \n",
      "235            APPLE iPhone 7 Plus (Jet Black, 128 GB)    ₹42,900   \n",
      "236                     APPLE iPhone 7 (Silver, 32 GB)    ₹31,500   \n",
      "237                       APPLE iPhone 7 (Gold, 32 GB)    ₹31,500   \n",
      "238           APPLE iPhone 11 Pro Max (Silver, 256 GB)  ₹1,31,900   \n",
      "239  Apple iPhone XR (Blue, 256 GB) (Includes EarPo...    ₹91,900   \n",
      "\n",
      "                                           Description Ratings  \\\n",
      "0    256 GB ROM15.49 cm (6.1 inch) Super Retina XDR...     4.6   \n",
      "1    128 GB ROM15.49 cm (6.1 inch) Super Retina XDR...     4.7   \n",
      "2    64 GB ROM15.49 cm (6.1 inch) Liquid Retina HD ...     4.6   \n",
      "3    256 GB ROM15.49 cm (6.1 inch) Super Retina XDR...     4.6   \n",
      "4    128 GB ROM15.49 cm (6.1 inch) Super Retina XDR...     4.6   \n",
      "..                                                 ...     ...   \n",
      "235  128 GB ROM13.94 cm (5.488 inch) Retina HD Disp...     4.5   \n",
      "236  32 GB ROM11.94 cm (4.7 inch) Retina HD Display...     4.5   \n",
      "237  32 GB ROM11.94 cm (4.7 inch) Retina HD Display...     4.5   \n",
      "238  256 GB ROM16.51 cm (6.5 inch) Super Retina XDR...     4.7   \n",
      "239  256 GB ROM15.49 cm (6.1 inch) Display12MP Rear...     4.6   \n",
      "\n",
      "                               Reviews  \n",
      "0    2,75,754 Ratings & 13,429 Reviews  \n",
      "1             408 Ratings & 37 Reviews  \n",
      "2    2,04,458 Ratings & 11,509 Reviews  \n",
      "3          2,659 Ratings & 207 Reviews  \n",
      "4    2,75,754 Ratings & 13,429 Reviews  \n",
      "..                                 ...  \n",
      "235     29,851 Ratings & 2,991 Reviews  \n",
      "236     95,195 Ratings & 9,180 Reviews  \n",
      "237     95,195 Ratings & 9,180 Reviews  \n",
      "238        1,103 Ratings & 100 Reviews  \n",
      "239   1,01,049 Ratings & 8,541 Reviews  \n",
      "\n",
      "[240 rows x 5 columns]\n"
     ]
    }
   ],
   "source": [
    "import pandas as pd\n",
    "import requests\n",
    "from bs4 import BeautifulSoup\n",
    "# for i in range(2,10):\n",
    "Product_name = []\n",
    "Prices = []\n",
    "Ratings = []\n",
    "Reviews = []\n",
    "Descriptions = []\n",
    "\n",
    "for i in range(2,12):\n",
    "    url = \"https://www.flipkart.com/search?q=iphones&otracker=search&otracker1https%3A%2F%2Fwww.flipkart.com%2Fsearch%3Fq=iphone&otracker=search&otracker1=search&marketplace=FLIPKART&as-show=on&as=off&page=\"+str(i)\n",
    "\n",
    "    re = requests.get(url)\n",
    "        # print(re)\n",
    "\n",
    "    soup = BeautifulSoup(re.text,\"lxml\")\n",
    "    box = soup.find(\"div\",class_ = \"_1YokD2 _3Mn1Gg\")\n",
    "\n",
    "    names = box.find_all(\"div\",class_ = \"_4rR01T\")\n",
    "    # print(names)\n",
    "    for i in names:\n",
    "        name=i.text\n",
    "        Product_name.append(name)\n",
    "\n",
    "    # print(Product_name)\n",
    "\n",
    "    prices = box.find_all(\"div\",class_ = \"_30jeq3 _1_WHN1\")\n",
    "    # print(prices)\n",
    "    for i in prices:\n",
    "        name=i.text\n",
    "        Prices.append(name)\n",
    "\n",
    "    # print(Prices)\n",
    "\n",
    "    rat = box.find_all(\"div\",class_ = \"_3LWZlK\")\n",
    "\n",
    "    for i in rat:\n",
    "        name=i.text\n",
    "        Ratings.append(name)\n",
    "\n",
    "    # print(Ratings)\n",
    "\n",
    "    rev = box.find_all(\"span\",class_ = \"_2_R_DZ\")\n",
    "\n",
    "    for i in rev:\n",
    "        name=i.text\n",
    "        Reviews.append(name)\n",
    "\n",
    "    # print(Reviews)\n",
    "\n",
    "    des = box.find_all(\"ul\",class_ = \"_1xgFaf\")\n",
    "\n",
    "    for i in des:\n",
    "        name=i.text\n",
    "        Descriptions.append(name)\n",
    "\n",
    "    # print(Descriptions)\n",
    "\n",
    "df = pd.DataFrame({\"Product Name\":Product_name,\"Prices\":Prices,\"Description\":Descriptions,\"Ratings\":Ratings,\"Reviews\":Reviews})\n",
    "\n",
    "print(df)\n",
    "\n",
    "df.to_csv(\"Flipkart_Iphones.csv\")\n",
    "\n",
    "\n",
    "\n",
    "\n",
    "\n",
    "\n",
    "\n",
    "\n",
    "\n",
    "\n",
    "    # print(soup)\n",
    "    # while True:\n",
    "#     np = soup.find(\"a\",class_ = \"_1LKTO3\").get(\"href\")\n",
    "#     cnp = \"https://www.flipkart.com\"+np\n",
    "#     print(cnp)\n",
    "\n",
    "#     url = cnp\n",
    "#     re = requests.get(url)\n",
    "#     soup = BeautifulSoup(re.text,\"lxml\")\n",
    "    \n"
   ]
  },
  {
   "cell_type": "code",
   "execution_count": null,
   "id": "12b990ef",
   "metadata": {},
   "outputs": [],
   "source": []
  },
  {
   "cell_type": "code",
   "execution_count": null,
   "id": "c792504c",
   "metadata": {},
   "outputs": [],
   "source": []
  }
 ],
 "metadata": {
  "kernelspec": {
   "display_name": "Python 3 (ipykernel)",
   "language": "python",
   "name": "python3"
  },
  "language_info": {
   "codemirror_mode": {
    "name": "ipython",
    "version": 3
   },
   "file_extension": ".py",
   "mimetype": "text/x-python",
   "name": "python",
   "nbconvert_exporter": "python",
   "pygments_lexer": "ipython3",
   "version": "3.9.7"
  }
 },
 "nbformat": 4,
 "nbformat_minor": 5
}
